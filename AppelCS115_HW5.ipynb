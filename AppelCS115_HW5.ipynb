{
  "cells": [
    {
      "cell_type": "markdown",
      "source": [
        "Gianna Pahoundis, Tiffany Loza, Karla Gonzalez, Emily Rodriguez, Alanna Appel\n"
      ],
      "metadata": {
        "id": "JiCf4M2ht9Gx"
      },
      "id": "JiCf4M2ht9Gx"
    },
    {
      "cell_type": "markdown",
      "id": "d701cec5",
      "metadata": {
        "id": "d701cec5"
      },
      "source": [
        "# CS 115 — Group Homework (2–3 hours): Word Toolkit & Mini-Game (Ch 7.1–7.7)\n",
        "**Sonoma State University — Intro to Python**  \n",
        "**Topics:** Loops & Strings • Reading Files • Updating Variables • Looping & Counting • `in` Operator • Linear Search • Doctest\n",
        "\n",
        "### What you'll build (as a team)\n",
        "A **Word Toolkit** that searches a dictionary (`words.txt`) and powers a small **word game** (like a Spelling Bee variant). You'll write clean, tested functions, run doctests, and include a quick analysis chart.\n",
        "\n",
        "### Team workflow (suggested)\n",
        "- Roles: **Driver** (types), **Navigator** (reviews), **QA** (tests & doctests), **Analyst** (charts/summary). Rotate roles each section.\n",
        "- Timebox: ~30–40 min per major section. Keep moving; leave stretch goals for the end.\n",
        "- Deliverable: this completed notebook (ipynb), with all doctests/ asserts passing, and your mini-game demo cell working.\n"
      ]
    },
    {
      "cell_type": "markdown",
      "id": "2360124b",
      "metadata": {
        "id": "2360124b"
      },
      "source": [
        "---\n",
        "## 🔧 Setup\n",
        "Run this cell to download **`words.txt`** (official crossword word list used in *Think Python*).\n"
      ]
    },
    {
      "cell_type": "code",
      "execution_count": null,
      "id": "78b7e693",
      "metadata": {
        "colab": {
          "base_uri": "https://localhost:8080/"
        },
        "id": "78b7e693",
        "outputId": "2e780ebd-06a7-4274-bff4-f61bad5b1609"
      },
      "outputs": [
        {
          "output_type": "stream",
          "name": "stdout",
          "text": [
            "Downloading words.txt from https://raw.githubusercontent.com/AllenDowney/ThinkPython/v3/words.txt ...\n",
            "Download complete.\n",
            "words.txt is available ✅\n"
          ]
        }
      ],
      "source": [
        "# @title Download words.txt (run me first)\n",
        "import os, urllib.request\n",
        "\n",
        "WORDS_URL = \"https://raw.githubusercontent.com/AllenDowney/ThinkPython/v3/words.txt\"\n",
        "TARGET = \"words.txt\"\n",
        "\n",
        "def fetch_words(url=WORDS_URL, target=TARGET):\n",
        "    if os.path.exists(target):\n",
        "        print(f\"{target} already exists, skipping download.\")\n",
        "        return\n",
        "    try:\n",
        "        print(f\"Downloading {target} from {url} ...\")\n",
        "        urllib.request.urlretrieve(url, target)\n",
        "        print(\"Download complete.\")\n",
        "    except Exception as e:\n",
        "        print(\"Could not download words.txt. Error:\", e)\n",
        "        print(\"If you're offline, place a local copy of words.txt next to this notebook and rerun.\")\n",
        "\n",
        "fetch_words()\n",
        "assert os.path.exists(TARGET), \"words.txt is missing — please ensure it exists, then rerun.\"\n",
        "print(\"words.txt is available ✅\")\n"
      ]
    },
    {
      "cell_type": "markdown",
      "id": "f8f941b7",
      "metadata": {
        "id": "f8f941b7"
      },
      "source": [
        "---\n",
        "## Part 1 — Core Utilities (≈35–45 min)\n",
        "Write clean, documented functions with **doctests**. All functions should be **case-insensitive** (use `.lower()` where needed).\n"
      ]
    },
    {
      "cell_type": "code",
      "execution_count": null,
      "id": "96cde820",
      "metadata": {
        "id": "96cde820"
      },
      "outputs": [],
      "source": [
        "from doctest import run_docstring_examples\n",
        "\n",
        "def run_doctests(func):\n",
        "    \"\"\"Run doctests in `func`'s docstring (silent on success).\"\"\"\n",
        "    return run_docstring_examples(func, globals(), name=func.__name__)\n"
      ]
    },
    {
      "cell_type": "code",
      "execution_count": null,
      "id": "32dd9093",
      "metadata": {
        "colab": {
          "base_uri": "https://localhost:8080/"
        },
        "id": "32dd9093",
        "outputId": "41b55e17-2ce0-428f-a62f-c57ea59da7f8"
      },
      "outputs": [
        {
          "output_type": "stream",
          "name": "stdout",
          "text": [
            "has_e doctests ✅\n"
          ]
        }
      ],
      "source": [
        "# 1.a: has_e(word) — True if word contains 'e' (case-insensitive). Add doctests.\n",
        "def has_e(word):\n",
        "    \"\"\"Return True if `word` contains 'e' (case-insensitive).\n",
        "    >>> has_e('Emma')\n",
        "    True\n",
        "    >>> has_e('Gadsby')\n",
        "    False\n",
        "    >>> has_e('TREE')\n",
        "    True\n",
        "    >>> has_e('myth')\n",
        "    False\n",
        "    \"\"\"\n",
        "    return 'e' in word.lower()\n",
        "\n",
        "run_doctests(has_e)\n",
        "print(\"has_e doctests ✅\")\n"
      ]
    },
    {
      "cell_type": "code",
      "execution_count": null,
      "id": "970a2c0b",
      "metadata": {
        "id": "970a2c0b",
        "colab": {
          "base_uri": "https://localhost:8080/"
        },
        "outputId": "86a6ebab-8701-48ba-9188-149e88480340"
      },
      "outputs": [
        {
          "output_type": "stream",
          "name": "stdout",
          "text": [
            "uses_any doctests ✅\n"
          ]
        }
      ],
      "source": [
        "# 1.b: uses_any(word, letters) — True if any char from `letters` occurs in `word`. Add doctests.\n",
        "def uses_any(word, letters):\n",
        "    \"\"\"Return True if any character from `letters` appears in `word` (case-insensitive).\n",
        "    >>> uses_any('banana', 'aeiou')\n",
        "    True\n",
        "    >>> uses_any('apple', 'xyz')\n",
        "    False\n",
        "    >>> uses_any('Banana', 'AEIOU')\n",
        "    True\n",
        "    \"\"\"\n",
        "    for ch in word.lower():\n",
        "        if ch in letters.lower():\n",
        "            return True\n",
        "    return False\n",
        "\n",
        "run_doctests(uses_any)\n",
        "print(\"uses_any doctests ✅\")\n"
      ]
    },
    {
      "cell_type": "code",
      "execution_count": null,
      "id": "cd74d38c",
      "metadata": {
        "id": "cd74d38c",
        "colab": {
          "base_uri": "https://localhost:8080/"
        },
        "outputId": "a9967b7d-8a33-4a08-ccb9-a8200e6e7bed"
      },
      "outputs": [
        {
          "output_type": "stream",
          "name": "stdout",
          "text": [
            "uses_only doctests ✅\n"
          ]
        }
      ],
      "source": [
        "#1.c: uses_only(word, letters) — True if every char in word is in letters. Add doctests.\n",
        "def uses_only(word, letters):\n",
        "    \"\"\"Return True if every character in `word` is drawn from `letters` (case-insensitive).\n",
        "    >>> uses_only('cab', 'abc')\n",
        "    True\n",
        "    >>> uses_only('cabin', 'abc')\n",
        "    False\n",
        "    \"\"\"\n",
        "    w = word.lower()\n",
        "    L = letters.lower()\n",
        "    for ch in w:\n",
        "        if ch not in L:\n",
        "            return False\n",
        "    return True\n",
        "\n",
        "run_doctests(uses_only)\n",
        "print(\"uses_only doctests ✅\")\n"
      ]
    },
    {
      "cell_type": "code",
      "execution_count": null,
      "id": "822e4c9b",
      "metadata": {
        "id": "822e4c9b",
        "colab": {
          "base_uri": "https://localhost:8080/"
        },
        "outputId": "a9e0fdfa-607e-4ce8-c2af-ffde98cfaa63"
      },
      "outputs": [
        {
          "output_type": "stream",
          "name": "stdout",
          "text": [
            "avoids doctests ✅\n"
          ]
        }
      ],
      "source": [
        "# 1.d: avoids(word, letters) — True if word contains none of the letters. Add doctests.\n",
        "def avoids(word, letters):\n",
        "    \"\"\"Return True if `word` contains none of the characters in `letters` (case-insensitive).\n",
        "    >>> avoids('hello', 'xyz')\n",
        "    True\n",
        "    >>> avoids('hello', 'ox')\n",
        "    False\n",
        "    \"\"\"\n",
        "    w = word.lower()\n",
        "    L = letters.lower()\n",
        "    for ch in w:\n",
        "        if ch in L:\n",
        "            return False\n",
        "    return True\n",
        "\n",
        "run_doctests(avoids)\n",
        "print(\"avoids doctests ✅\")\n"
      ]
    },
    {
      "cell_type": "code",
      "execution_count": null,
      "id": "800b88cf",
      "metadata": {
        "id": "800b88cf",
        "colab": {
          "base_uri": "https://localhost:8080/"
        },
        "outputId": "b6c565ea-bf26-4b06-b907-d59493a24dbd"
      },
      "outputs": [
        {
          "output_type": "stream",
          "name": "stdout",
          "text": [
            "uses_all doctests ✅\n"
          ]
        }
      ],
      "source": [
        "# 1.e: uses_all(word, letters) — True if word includes every letter at least once. Add doctests.\n",
        "def uses_all(word, letters):\n",
        "    \"\"\"Return True if `word` includes every character in `letters` at least once (case-insensitive).\n",
        "    >>> uses_all('laser', 'aelrs')\n",
        "    True\n",
        "    >>> uses_all('laser', 'aelrst')\n",
        "    False\n",
        "    \"\"\"\n",
        "    w = word.lower()\n",
        "    for need in letters.lower():\n",
        "        if need not in w:\n",
        "            return False\n",
        "    return True\n",
        "\n",
        "run_doctests(uses_all)\n",
        "print(\"uses_all doctests ✅\")\n"
      ]
    },
    {
      "cell_type": "code",
      "execution_count": null,
      "id": "7fa9e090",
      "metadata": {
        "id": "7fa9e090",
        "colab": {
          "base_uri": "https://localhost:8080/"
        },
        "outputId": "d8b55d1f-dd16-41be-8549-ddcadcbb0f7c"
      },
      "outputs": [
        {
          "output_type": "stream",
          "name": "stdout",
          "text": [
            "is_isogram & is_abecedarian doctests ✅\n"
          ]
        }
      ],
      "source": [
        "# 1.f: Bonus helpers — is_isogram(word) & is_abecedarian(word). Add doctests for each.\n",
        "def is_isogram(word):\n",
        "    \"\"\"Return True if `word` has no repeated letters (case-insensitive).\n",
        "    >>> is_isogram('dermatoglyphics')\n",
        "    True\n",
        "    >>> is_isogram('banana')\n",
        "    False\n",
        "    \"\"\"\n",
        "    w = word.lower()\n",
        "    seen = set()\n",
        "    for ch in w:\n",
        "        if ch in seen:\n",
        "            return False\n",
        "        seen.add(ch)\n",
        "    return True\n",
        "\n",
        "def is_abecedarian(word):\n",
        "    \"\"\"Return True if letters in `word` are in nondecreasing alphabetical order (case-insensitive).\n",
        "    >>> is_abecedarian('abbot')\n",
        "    True\n",
        "    >>> is_abecedarian('zebra')\n",
        "    False\n",
        "    \"\"\"\n",
        "    w = word.lower()\n",
        "    return all(w[i] <= w[i+1] for i in range(len(w)-1))\n",
        "\n",
        "run_doctests(is_isogram)\n",
        "run_doctests(is_abecedarian)\n",
        "print(\"is_isogram & is_abecedarian doctests ✅\")\n"
      ]
    },
    {
      "cell_type": "markdown",
      "id": "9b82d128",
      "metadata": {
        "id": "9b82d128"
      },
      "source": [
        "---\n",
        "## Part 2 — Dictionary Loading & Quick Metrics (≈20–30 min)\n",
        "Load the word list and compute some quick counts and percentages.\n"
      ]
    },
    {
      "cell_type": "code",
      "execution_count": null,
      "id": "2d8346fa",
      "metadata": {
        "id": "2d8346fa",
        "colab": {
          "base_uri": "https://localhost:8080/"
        },
        "outputId": "bfcc36d4-79ad-4587-8e6e-fdb658f67a0d"
      },
      "outputs": [
        {
          "output_type": "stream",
          "name": "stdout",
          "text": [
            "Loaded 113783 words.\n"
          ]
        }
      ],
      "source": [
        "# 2.a: Load all words into a list `WORDS`.\n",
        "WORDS = []\n",
        "with open(\"words.txt\") as fin:\n",
        "    for line in fin:\n",
        "        WORDS.append(line.strip())\n",
        "\n",
        "print(\"Loaded\", len(WORDS), \"words.\")\n",
        "assert len(WORDS) > 100_000\n"
      ]
    },
    {
      "cell_type": "code",
      "execution_count": null,
      "id": "305881af",
      "metadata": {
        "id": "305881af",
        "colab": {
          "base_uri": "https://localhost:8080/"
        },
        "outputId": "afe43f0b-50e2-4869-dd40-1f9c6d4e9475"
      },
      "outputs": [
        {
          "output_type": "stream",
          "name": "stdout",
          "text": [
            "with 'e': 76162 / 113783 = 66.94%\n"
          ]
        }
      ],
      "source": [
        "# 2.b: Count how many words contain 'e' and compute the percentage.\n",
        "total = len(WORDS)\n",
        "with_e = sum(1 for w in WORDS if has_e(w))\n",
        "pct_with_e = with_e / total * 100\n",
        "print(f\"with 'e': {with_e} / {total} = {pct_with_e:.2f}%\")\n",
        "\n",
        "# sanity band\n",
        "assert 50 <= pct_with_e <= 80\n"
      ]
    },
    {
      "cell_type": "code",
      "execution_count": null,
      "id": "6d0bc921",
      "metadata": {
        "id": "6d0bc921",
        "colab": {
          "base_uri": "https://localhost:8080/"
        },
        "outputId": "d0ada262-5604-4782-b272-0e1326507166"
      },
      "outputs": [
        {
          "output_type": "stream",
          "name": "stdout",
          "text": [
            "words_without_e: 37621\n",
            "words_avoiding_xyz: 95170\n",
            "longest_no_e: microminiaturizations (len 21 )\n"
          ]
        }
      ],
      "source": [
        "# 2.c: Using your helpers, compute:\n",
        "# - words_without_e\n",
        "# - words_avoiding_xyz\n",
        "# - longest_no_e (string) and its length\n",
        "words_without_e = [w for w in WORDS if not has_e(w)]\n",
        "words_avoiding_xyz = [w for w in WORDS if avoids(w, \"xyz\")]\n",
        "\n",
        "# longest word avoiding 'e'\n",
        "longest_no_e = max((w for w in WORDS if avoids(w, \"e\")), key=len)\n",
        "print(\"words_without_e:\", len(words_without_e))\n",
        "print(\"words_avoiding_xyz:\", len(words_avoiding_xyz))\n",
        "print(\"longest_no_e:\", longest_no_e, \"(len\", len(longest_no_e), \")\")\n"
      ]
    },
    {
      "cell_type": "markdown",
      "id": "c25c793c",
      "metadata": {
        "id": "c25c793c"
      },
      "source": [
        "---\n",
        "## Part 3 — Tiny Visualization (≈10–15 min)\n",
        "Compute letter frequencies across `WORDS` and plot the **top 10** letters in a single bar chart.\n"
      ]
    },
    {
      "cell_type": "code",
      "execution_count": null,
      "id": "48057071",
      "metadata": {
        "id": "48057071",
        "colab": {
          "base_uri": "https://localhost:8080/",
          "height": 472
        },
        "outputId": "0a606fc9-7d5b-4e92-8dcf-55133c7feb4f"
      },
      "outputs": [
        {
          "output_type": "display_data",
          "data": {
            "text/plain": [
              "<Figure size 640x480 with 1 Axes>"
            ],
            "image/png": "[encoded data removed]"
          },
          "metadata": {}
        }
      ],
      "source": [
        "from collections import Counter\n",
        "letters = Counter()\n",
        "for w in WORDS:\n",
        "    for ch in w.lower():\n",
        "        if 'a' <= ch <= 'z':\n",
        "            letters[ch] += 1\n",
        "\n",
        "import matplotlib.pyplot as plt\n",
        "\n",
        "top10 = letters.most_common(10)\n",
        "xs = [x for x,_ in top10]\n",
        "ys = [y for _,y in top10]\n",
        "\n",
        "plt.figure()\n",
        "plt.bar(xs, ys)\n",
        "plt.title(\"Top 10 Letter Frequencies in words.txt\")\n",
        "plt.xlabel(\"Letter\")\n",
        "plt.ylabel(\"Frequency\")\n",
        "plt.show()\n"
      ]
    },
    {
      "cell_type": "markdown",
      "id": "c3fe0b22",
      "metadata": {
        "id": "c3fe0b22"
      },
      "source": [
        "---\n",
        "## Part 4 — Build Your **Word Toolkit** (≈25–35 min)\n",
        "Create a small API (a set of functions) to support interactive word queries.\n"
      ]
    },
    {
      "cell_type": "code",
      "execution_count": null,
      "id": "79d17002",
      "metadata": {
        "id": "79d17002",
        "colab": {
          "base_uri": "https://localhost:8080/"
        },
        "outputId": "b21834ba-5848-411f-c512-241957cb0a3b"
      },
      "outputs": [
        {
          "output_type": "stream",
          "name": "stdout",
          "text": [
            "filter_words basic checks ✅\n"
          ]
        }
      ],
      "source": [
        "# 4.a: filter_words(min_len=4, must_include=None, only=None, avoid=None, require_all=None)\n",
        "def filter_words(words, min_len=1, must_include=None, only=None, avoid=None, require_all=None):\n",
        "    \"\"\"Filter `words` by constraints.\n",
        "    - min_len: minimum length\n",
        "    - must_include: a character that must appear\n",
        "    - only: string of allowed letters (word must use only these)\n",
        "    - avoid: string of forbidden letters\n",
        "    - require_all: string of letters that all must appear at least once\n",
        "    \"\"\"\n",
        "    out = []\n",
        "    for w in words:\n",
        "        wl = w.lower()\n",
        "        if len(wl) < min_len:\n",
        "            continue\n",
        "        if must_include and must_include.lower() not in wl:\n",
        "            continue\n",
        "        if only and not uses_only(wl, only):\n",
        "            continue\n",
        "        if avoid and not avoids(wl, avoid):\n",
        "            continue\n",
        "        if require_all and not uses_all(wl, require_all):\n",
        "            continue\n",
        "        out.append(w)\n",
        "    return sorted(out)\n",
        "\n",
        "\n",
        "# quick smoke checks\n",
        "sample = [\"laser\",\"alert\",\"trees\",\"realm\",\"zzz\",\"apple\",\"ban\",\"baa\"]\n",
        "assert filter_words(sample, min_len=4) == [\"alert\",\"apple\",\"laser\",\"realm\",\"trees\"] #took out \"zzz\" because not meet minimum length of 4\n",
        "assert \"laser\" in filter_words(sample, only=\"aelrst\")\n",
        "assert \"alert\" in filter_words(sample, only=\"aelrst\", must_include=\"a\")\n",
        "print(\"filter_words basic checks ✅\")\n"
      ]
    },
    {
      "cell_type": "code",
      "execution_count": null,
      "id": "456c93b9",
      "metadata": {
        "id": "456c93b9",
        "colab": {
          "base_uri": "https://localhost:8080/"
        },
        "outputId": "81c97afa-1eec-4da0-a505-d5b8e53a8f0b"
      },
      "outputs": [
        {
          "output_type": "stream",
          "name": "stdout",
          "text": [
            "Allowed letters (e.g., aelrst): aelrst\n",
            "Center/must-include letter (e.g., a): a\n",
            "Minimum length (>=4 recommended): 4\n",
            "Found 411 matches. Sample: ['aals', 'aerate', 'aerates', 'alae', 'alar', 'alas', 'alate', 'alee', 'alert', 'alerter', 'alertest', 'alerts', 'ales', 'allele', 'alleles', 'alls', 'altar', 'altars', 'alter', 'alterer']\n"
          ]
        }
      ],
      "source": [
        "#4.b: Interactive-ish demo (enter parameters and preview results).\n",
        "try:\n",
        "    hive = input(\"Allowed letters (e.g., aelrst): \").strip() or \"aelrst\"\n",
        "    center = input(\"Center/must-include letter (e.g., a): \").strip() or \"a\"\n",
        "    min_len = int(input(\"Minimum length (>=4 recommended): \").strip() or \"4\")\n",
        "except Exception:\n",
        "    hive, center, min_len = \"aelrst\", \"a\", 4\n",
        "\n",
        "results = filter_words(WORDS, min_len=min_len, must_include=center, only=hive)\n",
        "print(f\"Found {len(results)} matches. Sample: {results[:20]}\")\n"
      ]
    },
    {
      "cell_type": "markdown",
      "id": "c833c5e7",
      "metadata": {
        "id": "c833c5e7"
      },
      "source": [
        "---\n",
        "## Part 5 — Mini-Game: Spelling Bee Variant (≈30–40 min)\n",
        "Rules (simplified):\n",
        "- A 7-letter **hive** with one **center** letter required in every word.\n",
        "- Words must be **length ≥ 4** and use only hive letters.\n",
        "- Scoring: 4-letter words = **1** point; longer words = **length**; **pangram** (uses all hive letters) adds **+7**.\n",
        "Implement a solver, compute total score, list pangrams, and show the **top 10** scoring words.\n"
      ]
    },
    {
      "cell_type": "code",
      "execution_count": null,
      "id": "fd13d5ee",
      "metadata": {
        "id": "fd13d5ee"
      },
      "outputs": [],
      "source": [
        "def is_valid_spelling_bee_word(word, center, hive, min_len=4):\n",
        "    w = word.lower()\n",
        "    return (\n",
        "        len(w) >= min_len and\n",
        "        center.lower() in w and\n",
        "        uses_only(w, hive)\n",
        "    )\n",
        "\n",
        "def spelling_bee_score(word, hive, center):\n",
        "    w = word.lower()\n",
        "    base = 1 if len(w) == 4 else len(w)\n",
        "    bonus = 7 if uses_all(w, hive) else 0\n",
        "    return base + bonus\n"
      ]
    },
    {
      "cell_type": "code",
      "execution_count": null,
      "id": "6fdf9f2c",
      "metadata": {
        "id": "6fdf9f2c",
        "colab": {
          "base_uri": "https://localhost:8080/"
        },
        "outputId": "fcefd7b3-ad27-4838-ef0d-b23ebf6a14c8"
      },
      "outputs": [
        {
          "output_type": "stream",
          "name": "stdout",
          "text": [
            "Solutions found: 411. Sample: ['aals', 'aerate', 'aerates', 'alae', 'alar', 'alas', 'alate', 'alee', 'alert', 'alerter', 'alertest', 'alerts', 'ales', 'allele', 'alleles', 'alls', 'altar', 'altars', 'alter', 'alterer']\n"
          ]
        }
      ],
      "source": [
        "#  5.a: Implement solve_spelling_bee(hive, center) returning a sorted list of valid words.\n",
        "def solve_spelling_bee(hive, center, words=WORDS):\n",
        "    results = []\n",
        "    for w in words:\n",
        "        if is_valid_spelling_bee_word(w, center, hive):\n",
        "            results.append(w.lower())\n",
        "    return sorted(set(results))\n",
        "\n",
        "HIVE = \"aelrst\"\n",
        "CENTER = \"a\"\n",
        "solutions = solve_spelling_bee(HIVE, CENTER)\n",
        "print(f\"Solutions found: {len(solutions)}. Sample:\", solutions[:20])\n"
      ]
    },
    {
      "cell_type": "code",
      "execution_count": null,
      "id": "3a312a80",
      "metadata": {
        "id": "3a312a80",
        "colab": {
          "base_uri": "https://localhost:8080/"
        },
        "outputId": "a6620d04-8bbe-4615-a2f9-ee2455884beb"
      },
      "outputs": [
        {
          "output_type": "stream",
          "name": "stdout",
          "text": [
            "Total score: 2562\n",
            "Pangrams: ['alertest', 'alerts', 'alterers', 'alters', 'artels', 'artless', 'elaters', 'estral', 'laster', 'lasters', 'laterals', 'ratels', 'rattlers', 'rattles', 'realest', 'realters', 'relaters', 'relates', 'salter', 'salters', 'slater', 'slaters', 'staler', 'starless', 'starlet', 'starlets', 'startle', 'startler', 'startlers', 'startles', 'stealer', 'stealers', 'stelar', 'stellar', 'talers', 'tartlets', 'tattlers', 'tearless', 'teaseler', 'teaselers', 'terrellas']\n",
            " startlers  16\n",
            " teaselers  16\n",
            " terrellas  16\n",
            "  alertest  15\n",
            "  alterers  15\n",
            "  laterals  15\n",
            "  rattlers  15\n",
            "  realters  15\n",
            "  relaters  15\n",
            "  starless  15\n"
          ]
        }
      ],
      "source": [
        "# 5.b: Compute total score and pangrams; list top 10 scoring words.\n",
        "def total_spelling_bee_score(words, hive, center):\n",
        "    total = 0\n",
        "    pangrams = []\n",
        "    for w in words:\n",
        "        total += spelling_bee_score(w, hive, center)\n",
        "        if uses_all(w, hive):\n",
        "            pangrams.append(w)\n",
        "    return total, sorted(pangrams)\n",
        "\n",
        "def top_scoring(words, hive, center, k=10):\n",
        "    scored = [(w, spelling_bee_score(w, hive, center)) for w in words]\n",
        "    scored.sort(key=lambda t: (-t[1], t[0]))\n",
        "    return scored[:k]\n",
        "\n",
        "total_score, pangrams = total_spelling_bee_score(solutions, HIVE, CENTER)\n",
        "print(\"Total score:\", total_score)\n",
        "print(\"Pangrams:\", pangrams)\n",
        "for w, sc in top_scoring(solutions, HIVE, CENTER):\n",
        "    print(f\"{w:>10}  {sc}\")\n"
      ]
    },
    {
      "cell_type": "markdown",
      "id": "fb573dd3",
      "metadata": {
        "id": "fb573dd3"
      },
      "source": [
        "---\n",
        "## Part 6 — Team Reflection (≤10 min)\n",
        "Briefly describe:\n",
        "- Who did what (Driver / Navigator / QA / Analyst).\n",
        "- What you found tricky and how you solved it.\n",
        "- One improvement you’d make with more time.\n"
      ]
    },
    {
      "cell_type": "markdown",
      "source": [
        "Alanna (Navigator) ran through the programs and made sure they all ran. I found the filter words portion tricky because at first I did not understand how it would sort out the list."
      ],
      "metadata": {
        "id": "AQAmXOc3zlYE"
      },
      "id": "AQAmXOc3zlYE"
    },
    {
      "cell_type": "markdown",
      "id": "3891bbe3",
      "metadata": {
        "id": "3891bbe3"
      },
      "source": [
        "---\n",
        "## ✅ What to Submit\n",
        "- This **notebook (.ipynb)** with all cells executed top-to-bottom, doctests passing, and your mini-game demo.\n",
        "- Keep your names at the top of the notebook.\n",
        "\n",
        "## 🧮 Grading Rubric (100 pts)\n",
        "- **Core functions w/ doctests** (`has_e`, `uses_any`, `uses_only`, `avoids`, `uses_all`) — *30 pts*\n",
        "  - Correctness & edge cases (20), docstrings + doctests (10)\n",
        "- **Dictionary metrics** (counts/percentages + longest no-'e') — *10 pts*\n",
        "- **Visualization** (top-10 letter frequency bar chart) — *10 pts*\n",
        "- **Word Toolkit API** (`filter_words` + demo) — *20 pts*\n",
        "- **Mini-Game (solver, scoring, pangrams, top-10)** — *20 pts*\n",
        "- **Team reflection** — *10 pts*\n",
        "- **Bonus** up to +5 pts for `is_isogram`, `is_abecedarian`, or creative extensions (clearly marked).\n",
        "\n",
        "*Notebook generated: 2025-09-15 05:10 *\n"
      ]
    }
  ],
  "metadata": {
    "colab": {
      "provenance": []
    },
    "language_info": {
      "name": "python"
    },
    "kernelspec": {
      "name": "python3",
      "display_name": "Python 3"
    }
  },
  "nbformat": 4,
  "nbformat_minor": 5
}