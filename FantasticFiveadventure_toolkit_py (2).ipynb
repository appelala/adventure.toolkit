{
  "cells": [
    {
      "cell_type": "code",
      "execution_count": null,
      "metadata": {
        "id": "js_iVliHqGdv"
      },
      "outputs": [],
      "source": []
    },
    {
      "cell_type": "markdown",
      "metadata": {
        "id": "WcBI6lu0or9h"
      },
      "source": [
        "\"\"\"Adventure Toolkit — Chapters 1–3,5\n",
        "Authors: Alanna Appel, Gianna Pahoundis, Tiffany Loza, Emily Rodriguez,Karla Gonzalez\n",
        "\n",
        "Course/Section: CS/CMPE 115, Fall 2025\n",
        "\n",
        "Description: Prep utilities (time/coins/eligibility) + mini-adventure with recursion and conditionals.\n",
        "\"\"\""
      ]
    },
    {
      "cell_type": "code",
      "execution_count": 1,
      "metadata": {
        "id": "ZvUhze1dpokj"
      },
      "outputs": [],
      "source": [
        "\n",
        "def seconds_to_hms(total_seconds):\n",
        "    \"\"\"Return (hours, minutes, seconds) for a non-negative total_seconds.\"\"\"\n",
        "    #validate non-negative\n",
        "    if total_seconds>=0:\n",
        "      h = total_seconds // 3600\n",
        "      rem = total_seconds % 3600\n",
        "      m = rem // 60\n",
        "      s = rem % 60\n",
        "    else:\n",
        "      if total_seconds<0:\n",
        "        print(\"Please enter a positive number\")\n",
        "      %%expect UnboundLocalError\n",
        "    return h, m, s"
      ]
    },
    {
      "cell_type": "code",
      "execution_count": 2,
      "metadata": {
        "id": "OfjCcvscorSr"
      },
      "outputs": [],
      "source": [
        "def copper_to_coins(cp):\n",
        "    \"\"\"Return (gp, sp, cp) using 1 gp = 100 sp and 1 sp = 10 cp.\"\"\"\n",
        "    if cp>=0:\n",
        "      sp_total = cp // 10\n",
        "      cp_left  = cp % 10\n",
        "      gp = sp_total // 100\n",
        "      sp = sp_total % 100\n",
        "    else:\n",
        "      print(\"Please enter a positive number\")\n",
        "      %%expect UnboundLocalError\n",
        "    return gp, sp, cp_left\n"
      ]
    },
    {
      "cell_type": "code",
      "execution_count": 3,
      "metadata": {
        "id": "KszNMZAGzFdu"
      },
      "outputs": [],
      "source": [
        "def ask_int(prompt):\n",
        "  \"\"\"Recursively prompt until user enters an int; return the int.\"\"\"\n",
        "  s = input(prompt)\n",
        "  if s.strip() == '':\n",
        "    print(\"Please enter a whole number.\")\n",
        "    return ask_int(prompt)  # recurse (progress: user re-enters)\n",
        "  try:\n",
        "    return int(s)\n",
        "  except ValueError:\n",
        "    print(\"Please enter a whole number.\")\n",
        "    return ask_int(prompt) #recursion; calls back to original prompt to retry"
      ]
    },
    {
      "cell_type": "code",
      "execution_count": 4,
      "metadata": {
        "id": "ku5VOdeJDw1a"
      },
      "outputs": [],
      "source": [
        "def ask_choice(prompt, options):\n",
        "    \"\"\"Recursively prompt until input is one of options (strings).\"\"\"\n",
        "    s = input(prompt).strip().lower()\n",
        "    if s in options:\n",
        "        return s\n",
        "    print(f\"Please enter one of: {', '.join(options)}\")\n",
        "    return ask_choice(prompt, options)  # recurse"
      ]
    },
    {
      "cell_type": "code",
      "source": [
        "def guess_guard_code(secret, attempts_left):\n",
        "    \"\"\"Return True if traveler deciphers the code within chances_left; else False (recursive).\"\"\"\n",
        "     # checks if it was last attempt(3 attempts)\n",
        "    if attempts_left < 0:\n",
        "        raise ValueError(\"attempts_left must be non-negative\")\n",
        "    if attempts_left == 0:\n",
        "        print(\"The ancient gates remain sealed. The castle crumbles further into ruin...\")\n",
        "        return False\n",
        "#asks the player to guess code\n",
        "    guess = ask_int(f\"Etch your code guess upon the stone ({attempts_left} attempts remain): \")\n",
        " #checks if guess is correct/true\n",
        "    if guess == secret:\n",
        "        print(\"The old stones tremble... the gates creak open. You have succeeded.\")\n",
        "        return True\n",
        "\n",
        "    elif guess < secret:\n",
        "        print(\"The code fades too dimly... it is too low.\")\n",
        "    else:\n",
        "        print(\"The code blazes too fiercely... it is too high.\")\n",
        "\n",
        "    return guess_guard_code(secret, attempts_left - 1)"
      ],
      "metadata": {
        "id": "5yEeF5VU_EPZ"
      },
      "execution_count": 5,
      "outputs": []
    },
    {
      "cell_type": "code",
      "execution_count": 6,
      "metadata": {
        "id": "q2_sttR04uvk"
      },
      "outputs": [],
      "source": [
        "def intro_scene(name):\n",
        "   \"\"\"Run the intro scene.\"\"\"\n",
        "   print(f\"\\nWelcome, {name}.\")\n",
        "   print(\"The air grows colder as you cross the threshold of the crumbling castle.\")\n",
        "   print(\"From the shadows, a flock of ravens burst upward, their wings echoing against the empty halls that once hosted royalty.\")"
      ]
    },
    {
      "cell_type": "code",
      "source": [
        "def fork_scene(has_torch):\n",
        "    \"\"\"Runs a fork scene based on whether user selected a torch.\"\"\"\n",
        "    print(\"\\nYou reach a fork deep within the crumbling castle.\")\n",
        "    print(\"To the left, broken walls are lined with faint carvings, half-buried in rubble.\")\n",
        "    print(\"To the right, the corridor narrows, its silence broken only by falling stone.\")\n",
        "    path = ask_choice(\"Choose your path (left/right): \", {\"left\", \"right\"})\n",
        "    #example of nested conditionals\n",
        "    if path == \"left\":\n",
        "        if has_torch:\n",
        "            print(\"The torchlight reveals ancient carvings — a map etched in stone, pointing toward the sword’s chamber.\")\n",
        "            return \"left_map\"\n",
        "        else:\n",
        "            print(\"Without light, the carvings remain hidden. You stumble through rubble, unsure if you missed a clue.\")\n",
        "            return \"left_blind\"\n",
        "    else:  # path == \"right\"\n",
        "        if has_torch:\n",
        "            print(\"You spot a cracked archway ahead, nearly collapsed — beyond it lies a sealed door marked with a sword rune.\")\n",
        "            return \"right_door\"\n",
        "        else:\n",
        "            print(\"In the dark, falling bricks echo through the castle. You push on, but every wall and door seams identical.\")\n",
        "            return \"right_risk\""
      ],
      "metadata": {
        "id": "wnRYC4Ie_iPK"
      },
      "execution_count": 7,
      "outputs": []
    },
    {
      "cell_type": "code",
      "execution_count": 8,
      "metadata": {
        "id": "to9Dow6NoMlJ"
      },
      "outputs": [],
      "source": [
        "def cave_scene(has_torch):\n",
        "    \"\"\"Runs a cave scene based on whether user selected a torch\"\"\"\n",
        "    print(\"\\nYou see a cave. A strange sensation pulls you onward.\")\n",
        "    decision = ask_choice(\"Choose (enter/exit): \", {\"enter\", \"exit\"})\n",
        "    # Example of nested conditionals\n",
        "    if decision == \"enter\":\n",
        "        if has_torch:\n",
        "            print(\"Your torch reveals a glimmering treasure box.\")\n",
        "            return \"enter_safe\"\n",
        "        else:\n",
        "            print(\"Your footsteps echo ominously. You sense an ominous presence\")\n",
        "            return \"enter_risky\"\n",
        "    else:\n",
        "        if has_torch:\n",
        "            print(\"You can't help but feel like you missed out on something.\")\n",
        "            return \"exit_missed\"\n",
        "        else:\n",
        "            print(\"It was too dark. You feel like you dodged a bullet.\")\n",
        "            return \"exit_safe\""
      ]
    },
    {
      "cell_type": "code",
      "source": [
        "def ending_scene(tag):\n",
        "  \"\"\"Run the ending scene based on the tag.\"\"\"\n",
        "  #Chained/nested conditional demo if tag == \"right door\":\n",
        "  if tag == \"right_door\":\n",
        "    ok = guess_guard_code(secret=77, attempts_left=3)\n",
        "    if ok:\n",
        "      print(\"With a final effort, the seal breaks open. Within lies the Sword of Fallen Kings, glowing faintly in the dark.\")\n",
        "      print(\"The weapon is yours — a relic, a myth once told as a bedtime story to children across the realm, now bound to your fate.\")\n",
        "    else: print(\"The runes flare and die. The sealed door holds fast, keeping the sword beyond your reach.\")\n",
        "  elif tag == \"left_map\":\n",
        "    print(\"The carvings lead you into a hidden chamber. At first, it feels like discovery...\")\n",
        "    print(\"But as the floor gives way beneath you, you realize too late — the map was a decoy, a trap left by the castle’s last guardians.\")\n",
        "    print(\"You plunge into darkness, the echo of your fall swallowed by the ruins.\")\n",
        "  elif tag == \"right_risk\":\n",
        "    print(\"You press forward into the dark corridor.\")\n",
        "    print(\"A thunderous crack splits the air — the ceiling gives way, burying the path behind and ahead.\")\n",
        "    print(\"The castle has claimed another soul,stories you were told as a child about the legend of the Sword of Fallen Kings.\")\n",
        "  else:  # tag == \"left_blind\"\n",
        "    print(\"You wander blindly among rubble and ruin. The markings are lost to you, and the castle offers no answers.\")\n",
        "    print(\"At last, you stagger back to where you began, empty-handed, and defeated. Perhaps the legendary Sword of Fallen Kings never existed to begin with...\")"
      ],
      "metadata": {
        "id": "nFsibH9U_0ZC"
      },
      "execution_count": 9,
      "outputs": []
    },
    {
      "cell_type": "code",
      "execution_count": 10,
      "metadata": {
        "id": "UJUCtZBL4_U6"
      },
      "outputs": [],
      "source": [
        "def run_prep_utilities():\n",
        "    \"\"\"Run the prep utilities (time/coins/eligibility).\"\"\"\n",
        "    print(\"=== Prep Utilities ===\")\n",
        "    secs = ask_int(\"Enter total seconds: \")\n",
        "    h, m, s = seconds_to_hms(secs)\n",
        "    print(f\"H:MM:SS = {h}:{m:02d}:{s:02d}\")\n",
        "\n",
        "    cp = ask_int(\"Enter copper pieces (cp): \")\n",
        "    gp, sp, cp2 = copper_to_coins(cp)\n",
        "    print(f\"Coins → gp:{gp}  sp:{sp}  cp:{cp2}\")\n",
        "\n",
        "    age = ask_int(\"Enter age: \")\n",
        "    citizen = ask_choice(\"Citizen (y/n): \", {\"y\", \"n\"})\n",
        "    is_eligible = (100>=age >= 18) and (citizen == \"y\")\n",
        "    print(\"Eligible?\", is_eligible)\n",
        "    if is_eligible==False:\n",
        "      print(\"You are not eligible to enter the castle.\")\n",
        "      return False\n"
      ]
    },
    {
      "cell_type": "code",
      "execution_count": 11,
      "metadata": {
        "id": "ptzjRlLe5Dg2"
      },
      "outputs": [],
      "source": [
        "def run_adventure():\n",
        "  \"\"\"Run the mini-adventure with recursion and conditionals.\"\"\"\n",
        "  print(\"\\n=== Mini-Adventure ===\")\n",
        "  name = input(\"What is your name, adventurer? \")\n",
        "  torch_choice = ask_choice(\"Do you carry a torch? (y/n): \", {\"y\", \"n\"})\n",
        "  has_torch = (torch_choice == \"y\")\n",
        "\n",
        "  # DEBUG: show initial state (comment out if you prefer)\n",
        "  print(f\"# DEBUG: name={name}, has_torch={has_torch}\")\n",
        "\n",
        "  intro_scene(name)\n",
        "  tag = fork_scene(has_torch)\n",
        "  cave_scene(has_torch)\n",
        "  ending_scene(tag)"
      ]
    },
    {
      "cell_type": "code",
      "source": [
        "def play_again():\n",
        "  \"\"\"Ask the user if they want to play again.\"\"\"\n",
        "  replay = input(\"Do you want to play again? (y/n): \")\n",
        "  if replay == \"y\":\n",
        "    main()\n",
        "  else:\n",
        "    print(\"Thanks for playing!\")  # goodbye message\n",
        "    exit()\n"
      ],
      "metadata": {
        "id": "dGeBHm8OB8P2"
      },
      "execution_count": 12,
      "outputs": []
    },
    {
      "cell_type": "code",
      "execution_count": 13,
      "metadata": {
        "id": "8ERYmCRT5GYT"
      },
      "outputs": [],
      "source": [
        "def main():\n",
        "  \"\"\"Run the Adventure Toolkit.\"\"\"\n",
        "  print(\"Adventure Toolkit — Chapters 1–3,5\")\n",
        "  check=run_prep_utilities()\n",
        "  if check==False:\n",
        "    exit()\n",
        "  else:\n",
        "    run_adventure()\n",
        "    play_again()\n"
      ]
    },
    {
      "cell_type": "code",
      "source": [
        "if __name__ == \"__main__\":\n",
        "  main()\n"
      ],
      "metadata": {
        "colab": {
          "base_uri": "https://localhost:8080/"
        },
        "id": "uboY6IG13wU2",
        "outputId": "7b9c8ce8-3488-4c81-b005-289d92d8cd32"
      },
      "execution_count": 15,
      "outputs": [
        {
          "output_type": "stream",
          "name": "stdout",
          "text": [
            "Adventure Toolkit — Chapters 1–3,5\n",
            "=== Prep Utilities ===\n",
            "Enter total seconds: 30\n",
            "H:MM:SS = 0:00:30\n",
            "Enter copper pieces (cp): 30\n",
            "Coins → gp:0  sp:3  cp:0\n",
            "Enter age: 101\n",
            "Citizen (y/n): y\n",
            "Eligible? False\n",
            "You are not eligible to enter the castle.\n"
          ]
        }
      ]
    }
  ],
  "metadata": {
    "colab": {
      "provenance": []
    },
    "kernelspec": {
      "display_name": "Python 3",
      "name": "python3"
    },
    "language_info": {
      "name": "python"
    }
  },
  "nbformat": 4,
  "nbformat_minor": 0
}